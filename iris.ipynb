{
 "cells": [
  {
   "cell_type": "code",
   "execution_count": 2,
   "id": "67c157bd",
   "metadata": {},
   "outputs": [
    {
     "name": "stdout",
     "output_type": "stream",
     "text": [
      "Test accuracy: 0.84\n",
      "Model saved as iris_model.pkl\n",
      "Model loaded from iris_model.pkl\n",
      "Predicted class: [0]\n"
     ]
    }
   ],
   "source": [
    "# 1️⃣ Import libraries\n",
    "import pandas as pd\n",
    "import numpy as np\n",
    "from sklearn.datasets import load_iris\n",
    "from sklearn.model_selection import train_test_split\n",
    "from sklearn.ensemble import RandomForestClassifier\n",
    "import joblib\n",
    "\n",
    "# 2️⃣ Load Iris dataset\n",
    "iris = load_iris()\n",
    "X = iris.data\n",
    "y = iris.target\n",
    "\n",
    "# 3️⃣ Add stronger noise to make it harder\n",
    "np.random.seed(42)\n",
    "X_noisy = X + np.random.normal(0, 0.5, X.shape)\n",
    "\n",
    "# 4️⃣ Split data into train and test sets with different random_state\n",
    "X_train, X_test, y_train, y_test = train_test_split(\n",
    "    X_noisy, y, test_size=0.3, random_state=11\n",
    ")\n",
    "\n",
    "# 5️⃣ Train a weaker RandomForest model\n",
    "model = RandomForestClassifier(\n",
    "    n_estimators=5,    # even fewer trees\n",
    "    max_depth=2,       # shallower trees\n",
    "    random_state=42\n",
    ")\n",
    "model.fit(X_train, y_train)\n",
    "\n",
    "# 6️⃣ Evaluate accuracy\n",
    "accuracy = model.score(X_test, y_test)\n",
    "print(f\"Test accuracy: {accuracy:.2f}\")\n",
    "\n",
    "# 7️⃣ Save the trained model to a .pkl file\n",
    "joblib.dump(model, 'iris_model.pkl')\n",
    "print(\"Model saved as iris_model.pkl\")\n",
    "\n",
    "# 8️⃣ Load the model back from the .pkl file\n",
    "loaded_model = joblib.load('iris_model.pkl')\n",
    "print(\"Model loaded from iris_model.pkl\")\n",
    "\n",
    "# 9️⃣ Make a sample prediction with noisy input\n",
    "sample_input = np.array([[5.1, 3.5, 1.4, 0.2]]) + np.random.normal(0, 0.5, (1, 4))\n",
    "predicted_class = loaded_model.predict(sample_input)\n",
    "print(\"Predicted class:\", predicted_class)\n"
   ]
  }
 ],
 "metadata": {
  "kernelspec": {
   "display_name": "base",
   "language": "python",
   "name": "python3"
  },
  "language_info": {
   "codemirror_mode": {
    "name": "ipython",
    "version": 3
   },
   "file_extension": ".py",
   "mimetype": "text/x-python",
   "name": "python",
   "nbconvert_exporter": "python",
   "pygments_lexer": "ipython3",
   "version": "3.12.7"
  }
 },
 "nbformat": 4,
 "nbformat_minor": 5
}
